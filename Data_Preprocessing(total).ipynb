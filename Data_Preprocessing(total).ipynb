{
 "metadata": {
  "language_info": {
   "codemirror_mode": {
    "name": "ipython",
    "version": 3
   },
   "file_extension": ".py",
   "mimetype": "text/x-python",
   "name": "python",
   "nbconvert_exporter": "python",
   "pygments_lexer": "ipython3",
   "version": "3.8.8"
  },
  "orig_nbformat": 2,
  "kernelspec": {
   "name": "python388jvsc74a57bd026848223f25c0528451d7ef97ec918be2ab27e3833c08cd7061af0e1e902404a",
   "display_name": "Python 3.8.8 64-bit (conda)"
  },
  "metadata": {
   "interpreter": {
    "hash": "26848223f25c0528451d7ef97ec918be2ab27e3833c08cd7061af0e1e902404a"
   }
  }
 },
 "nbformat": 4,
 "nbformat_minor": 2,
 "cells": [
  {
   "source": [
    "# Data Preprocessing \n",
    "- Total All Regions"
   ],
   "cell_type": "markdown",
   "metadata": {}
  },
  {
   "cell_type": "code",
   "execution_count": 16,
   "metadata": {},
   "outputs": [],
   "source": [
    "import numpy as np\n",
    "import pandas as pd\n",
    "import matplotlib.pyplot as plt\n",
    "\n",
    "import math"
   ]
  },
  {
   "cell_type": "code",
   "execution_count": 2,
   "metadata": {},
   "outputs": [],
   "source": [
    "df = pd.read_csv('data\\kr_daily.csv')"
   ]
  },
  {
   "cell_type": "code",
   "execution_count": 3,
   "metadata": {},
   "outputs": [],
   "source": [
    "df = df.drop(['date', 'death', 'released', 'tested', 'negative', 'critical'], axis=1)"
   ]
  },
  {
   "cell_type": "code",
   "execution_count": 4,
   "metadata": {},
   "outputs": [],
   "source": [
    "def make_diff(dataframe):\n",
    "    \n",
    "    df_list = dataframe['confirmed'].tolist()\n",
    "    diff = []\n",
    "\n",
    "    for i in range(len(df_list)):\n",
    "        if i != 0:\n",
    "            diff.append(df_list[i] - df_list[i - 1])\n",
    "\n",
    "    sub = [1]\n",
    "    diff = sub + diff\n",
    "\n",
    "    diff = pd.DataFrame(diff, columns=['confirmed'])\n",
    "\n",
    "    return diff"
   ]
  },
  {
   "cell_type": "code",
   "execution_count": 5,
   "metadata": {},
   "outputs": [
    {
     "output_type": "execute_result",
     "data": {
      "text/plain": [
       "     confirmed\n",
       "0            1\n",
       "1            0\n",
       "2            0\n",
       "3            1\n",
       "4            0\n",
       "..         ...\n",
       "488        585\n",
       "489        538\n",
       "490        516\n",
       "491        707\n",
       "492        629\n",
       "\n",
       "[493 rows x 1 columns]"
      ],
      "text/html": "<div>\n<style scoped>\n    .dataframe tbody tr th:only-of-type {\n        vertical-align: middle;\n    }\n\n    .dataframe tbody tr th {\n        vertical-align: top;\n    }\n\n    .dataframe thead th {\n        text-align: right;\n    }\n</style>\n<table border=\"1\" class=\"dataframe\">\n  <thead>\n    <tr style=\"text-align: right;\">\n      <th></th>\n      <th>confirmed</th>\n    </tr>\n  </thead>\n  <tbody>\n    <tr>\n      <th>0</th>\n      <td>1</td>\n    </tr>\n    <tr>\n      <th>1</th>\n      <td>0</td>\n    </tr>\n    <tr>\n      <th>2</th>\n      <td>0</td>\n    </tr>\n    <tr>\n      <th>3</th>\n      <td>1</td>\n    </tr>\n    <tr>\n      <th>4</th>\n      <td>0</td>\n    </tr>\n    <tr>\n      <th>...</th>\n      <td>...</td>\n    </tr>\n    <tr>\n      <th>488</th>\n      <td>585</td>\n    </tr>\n    <tr>\n      <th>489</th>\n      <td>538</td>\n    </tr>\n    <tr>\n      <th>490</th>\n      <td>516</td>\n    </tr>\n    <tr>\n      <th>491</th>\n      <td>707</td>\n    </tr>\n    <tr>\n      <th>492</th>\n      <td>629</td>\n    </tr>\n  </tbody>\n</table>\n<p>493 rows × 1 columns</p>\n</div>"
     },
     "metadata": {},
     "execution_count": 5
    }
   ],
   "source": [
    "make_diff(df)"
   ]
  },
  {
   "cell_type": "code",
   "execution_count": 6,
   "metadata": {},
   "outputs": [],
   "source": [
    "def diff_level(dataframe, level):\n",
    "\n",
    "    model = dataframe\n",
    "\n",
    "    for i in range(level):\n",
    "        model = make_diff(model)\n",
    "\n",
    "    return model"
   ]
  },
  {
   "cell_type": "code",
   "execution_count": 24,
   "metadata": {},
   "outputs": [
    {
     "output_type": "execute_result",
     "data": {
      "text/plain": [
       "     confirmed\n",
       "0            1\n",
       "1            0\n",
       "2            0\n",
       "3            1\n",
       "4            0\n",
       "..         ...\n",
       "488        585\n",
       "489        538\n",
       "490        516\n",
       "491        707\n",
       "492        629\n",
       "\n",
       "[493 rows x 1 columns]"
      ],
      "text/html": "<div>\n<style scoped>\n    .dataframe tbody tr th:only-of-type {\n        vertical-align: middle;\n    }\n\n    .dataframe tbody tr th {\n        vertical-align: top;\n    }\n\n    .dataframe thead th {\n        text-align: right;\n    }\n</style>\n<table border=\"1\" class=\"dataframe\">\n  <thead>\n    <tr style=\"text-align: right;\">\n      <th></th>\n      <th>confirmed</th>\n    </tr>\n  </thead>\n  <tbody>\n    <tr>\n      <th>0</th>\n      <td>1</td>\n    </tr>\n    <tr>\n      <th>1</th>\n      <td>0</td>\n    </tr>\n    <tr>\n      <th>2</th>\n      <td>0</td>\n    </tr>\n    <tr>\n      <th>3</th>\n      <td>1</td>\n    </tr>\n    <tr>\n      <th>4</th>\n      <td>0</td>\n    </tr>\n    <tr>\n      <th>...</th>\n      <td>...</td>\n    </tr>\n    <tr>\n      <th>488</th>\n      <td>585</td>\n    </tr>\n    <tr>\n      <th>489</th>\n      <td>538</td>\n    </tr>\n    <tr>\n      <th>490</th>\n      <td>516</td>\n    </tr>\n    <tr>\n      <th>491</th>\n      <td>707</td>\n    </tr>\n    <tr>\n      <th>492</th>\n      <td>629</td>\n    </tr>\n  </tbody>\n</table>\n<p>493 rows × 1 columns</p>\n</div>"
     },
     "metadata": {},
     "execution_count": 24
    }
   ],
   "source": [
    "diff_level(df, 1)"
   ]
  },
  {
   "cell_type": "code",
   "execution_count": 25,
   "metadata": {},
   "outputs": [
    {
     "output_type": "execute_result",
     "data": {
      "text/plain": [
       "     confirmed\n",
       "0            1\n",
       "1           -1\n",
       "2            0\n",
       "3            1\n",
       "4           -1\n",
       "..         ...\n",
       "488        -81\n",
       "489        -47\n",
       "490        -22\n",
       "491        191\n",
       "492        -78\n",
       "\n",
       "[493 rows x 1 columns]"
      ],
      "text/html": "<div>\n<style scoped>\n    .dataframe tbody tr th:only-of-type {\n        vertical-align: middle;\n    }\n\n    .dataframe tbody tr th {\n        vertical-align: top;\n    }\n\n    .dataframe thead th {\n        text-align: right;\n    }\n</style>\n<table border=\"1\" class=\"dataframe\">\n  <thead>\n    <tr style=\"text-align: right;\">\n      <th></th>\n      <th>confirmed</th>\n    </tr>\n  </thead>\n  <tbody>\n    <tr>\n      <th>0</th>\n      <td>1</td>\n    </tr>\n    <tr>\n      <th>1</th>\n      <td>-1</td>\n    </tr>\n    <tr>\n      <th>2</th>\n      <td>0</td>\n    </tr>\n    <tr>\n      <th>3</th>\n      <td>1</td>\n    </tr>\n    <tr>\n      <th>4</th>\n      <td>-1</td>\n    </tr>\n    <tr>\n      <th>...</th>\n      <td>...</td>\n    </tr>\n    <tr>\n      <th>488</th>\n      <td>-81</td>\n    </tr>\n    <tr>\n      <th>489</th>\n      <td>-47</td>\n    </tr>\n    <tr>\n      <th>490</th>\n      <td>-22</td>\n    </tr>\n    <tr>\n      <th>491</th>\n      <td>191</td>\n    </tr>\n    <tr>\n      <th>492</th>\n      <td>-78</td>\n    </tr>\n  </tbody>\n</table>\n<p>493 rows × 1 columns</p>\n</div>"
     },
     "metadata": {},
     "execution_count": 25
    }
   ],
   "source": [
    "diff_level(df, 2)"
   ]
  }
 ]
}